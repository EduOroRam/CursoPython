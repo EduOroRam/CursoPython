{
 "cells": [
  {
   "cell_type": "markdown",
   "metadata": {},
   "source": [
    "Ejercicio 1"
   ]
  },
  {
   "cell_type": "code",
   "execution_count": 9,
   "metadata": {},
   "outputs": [
    {
     "name": "stdout",
     "output_type": "stream",
     "text": [
      "628949330 km\n",
      "390810995.0389724 mi terrestre\n"
     ]
    }
   ],
   "source": [
    "#Distancia entre dos planeta\n",
    "dist_Tierra = 149597870 #en Km al Sol\n",
    "dist_Jupiter = 778547200 #en km al Sol\n",
    "\n",
    "print(abs(dist_Tierra-dist_Jupiter), \"kms\")\n",
    "print(abs((dist_Tierra-dist_Jupiter)/1.609344), \"mi terrestre\")"
   ]
  },
  {
   "cell_type": "markdown",
   "metadata": {},
   "source": [
    "Ejercicio 2"
   ]
  },
  {
   "cell_type": "code",
   "execution_count": 13,
   "metadata": {},
   "outputs": [
    {
     "name": "stdout",
     "output_type": "stream",
     "text": [
      "629000000 kms\n",
      "390609000.0 mi terrestre\n"
     ]
    }
   ],
   "source": [
    "planeta1 = int(input(\"¿Distancia al sol del planeta 1? (en kms)\"))\n",
    "planeta2 = int(input(\"¿Distancia al sol del planeta 2? (en kms)\"))\n",
    "\n",
    "dist_km = abs(planeta1-planeta2)\n",
    "\n",
    "print(dist_km, \"kms\")\n",
    "print(dist_km * 0.621, \"mi terrestre\")"
   ]
  }
 ],
 "metadata": {
  "interpreter": {
   "hash": "04f024edacb86e904d0713ce411d5e94e68c3a134650f76885a9cdb3538d2df6"
  },
  "kernelspec": {
   "display_name": "Python 3.9.10 64-bit (windows store)",
   "language": "python",
   "name": "python3"
  },
  "language_info": {
   "codemirror_mode": {
    "name": "ipython",
    "version": 3
   },
   "file_extension": ".py",
   "mimetype": "text/x-python",
   "name": "python",
   "nbconvert_exporter": "python",
   "pygments_lexer": "ipython3",
   "version": "3.9.10"
  },
  "orig_nbformat": 4
 },
 "nbformat": 4,
 "nbformat_minor": 2
}
