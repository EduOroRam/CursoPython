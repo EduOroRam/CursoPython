{
 "cells": [
  {
   "cell_type": "markdown",
   "metadata": {},
   "source": [
    "Ejercicio 1"
   ]
  },
  {
   "cell_type": "code",
   "execution_count": 15,
   "metadata": {},
   "outputs": [
    {
     "name": "stdout",
     "output_type": "stream",
     "text": [
      " Reporte de lecturas\n",
      "    Lectura 1: 5\n",
      "    Lectura 2: 4\n",
      "    Lectura 3: 6\n",
      "    -----------------\n",
      "    Promedio: 5.0\n"
     ]
    }
   ],
   "source": [
    "def lectComb(lec1, lec2, lec3) :\n",
    "    return f\"\"\" Reporte de lecturas\n",
    "    Lectura 1: {lec1}\n",
    "    Lectura 2: {lec2}\n",
    "    Lectura 3: {lec3}\n",
    "    -----------------\n",
    "    Promedio: {avg([lec1,lec2,lec3])}\"\"\"\n",
    "\n",
    "def avg(lecturas):\n",
    "    suma_lecturas = sum(lecturas)\n",
    "    no_lecturas = len(lecturas)\n",
    "    return suma_lecturas / no_lecturas\n",
    "\n",
    "print(lectComb(5,4,6))"
   ]
  },
  {
   "cell_type": "markdown",
   "metadata": {},
   "source": [
    "Ejercicio 2"
   ]
  },
  {
   "cell_type": "code",
   "execution_count": 25,
   "metadata": {},
   "outputs": [
    {
     "name": "stdout",
     "output_type": "stream",
     "text": [
      "\n",
      "    Destino: Marte\n",
      "    Hora de salida: 10 horas\n",
      "    Duración de vuelo: 100 horas\n",
      "    Combustible: 20000 litros\n",
      "\n",
      "    Destino: Jupiter\n",
      "    Duración de vuelo: 255 horas en 3 segmentos\n",
      "    Combustible: 50000\n",
      "El tanque int cuenta con 20000 litros disponibles\n",
      "El tanque ext cuenta con 30000 litros disponibles\n",
      "\n"
     ]
    }
   ],
   "source": [
    "def informeA(preLanzHora, tiempoVuelo, destino, tanInt, tanExt):\n",
    "    return f\"\"\"\n",
    "    Destino: {destino}\n",
    "    Hora de salida: {preLanzHora} horas\n",
    "    Duración de vuelo: {tiempoVuelo} horas\n",
    "    Combustible: {tanExt + tanInt} litros\"\"\"\n",
    "print(informeA(10, 100, \"Marte\", 7000, 13000))\n",
    "\n",
    "def informeB(destino, *horas, **tanquesCombustible) :\n",
    "    reporte = f\"\"\"\n",
    "    Destino: {destino}\n",
    "    Duración de vuelo: {sum(horas)} horas en {len(horas)} segmentos\n",
    "    Combustible: {sum(tanquesCombustible.values())}\\n\"\"\"\n",
    "    for tanque, cantidad in tanquesCombustible.items():\n",
    "        reporte += f\"El tanque {tanque} cuenta con {cantidad} litros disponibles\\n\"\n",
    "    return reporte\n",
    "print(informeB(\"Jupiter\", 50, 125, 80, int=20000, ext=30000))"
   ]
  }
 ],
 "metadata": {
  "interpreter": {
   "hash": "04f024edacb86e904d0713ce411d5e94e68c3a134650f76885a9cdb3538d2df6"
  },
  "kernelspec": {
   "display_name": "Python 3.9.10 64-bit (windows store)",
   "language": "python",
   "name": "python3"
  },
  "language_info": {
   "codemirror_mode": {
    "name": "ipython",
    "version": 3
   },
   "file_extension": ".py",
   "mimetype": "text/x-python",
   "name": "python",
   "nbconvert_exporter": "python",
   "pygments_lexer": "ipython3",
   "version": "3.9.10"
  },
  "orig_nbformat": 4
 },
 "nbformat": 4,
 "nbformat_minor": 2
}
