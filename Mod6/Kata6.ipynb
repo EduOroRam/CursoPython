{
 "cells": [
  {
   "cell_type": "markdown",
   "metadata": {},
   "source": [
    "Ejercicio 1"
   ]
  },
  {
   "cell_type": "code",
   "execution_count": 13,
   "metadata": {},
   "outputs": [
    {
     "name": "stdout",
     "output_type": "stream",
     "text": [
      "The planets are ['Mercury', 'Venus', 'Earth', 'Mars', 'Jupiter', 'Saturn', 'Uranus', 'Neptune']\n",
      "From the 9 planets, Pluto is the last one\n"
     ]
    }
   ],
   "source": [
    "planets = ['Mercury', 'Venus', 'Earth', 'Mars', 'Jupiter', 'Saturn', 'Uranus', 'Neptune']\n",
    "print('The planets are', planets)\n",
    "planets.append('Pluto')\n",
    "print('From the', len(planets), 'planets,', planets[-1], 'is the last one')"
   ]
  },
  {
   "cell_type": "markdown",
   "metadata": {},
   "source": [
    "Ejercicio 2"
   ]
  },
  {
   "cell_type": "code",
   "execution_count": 17,
   "metadata": {},
   "outputs": [
    {
     "name": "stdout",
     "output_type": "stream",
     "text": [
      "Planetas cercanos: Mars y Saturn\n",
      "Entre el sol y ese planeta se encuentran: ['Mercury', 'Venus', 'Earth', 'Mars']\n",
      "Después de ese planeta se encuentran: ['Saturn', 'Uranus', 'Neptune']\n"
     ]
    }
   ],
   "source": [
    "# Lista de planetas\n",
    "planets = ['Mercury', 'Venus', 'Earth', 'Mars', 'Jupiter', 'Saturn', 'Uranus', 'Neptune']\n",
    "planeta_buscado = input('Ingresa un planeta, utiliza mayúscula para la primera letra')\n",
    "\n",
    "index_buscado = planets.index(planeta_buscado)\n",
    "print('Planetas cercanos:', planets[index_buscado-1], 'y', planets[index_buscado+1])\n",
    "\n",
    "print('Entre el sol y ese planeta se encuentran:', planets[:index_buscado])\n",
    "\n",
    "print('Después de ese planeta se encuentran:', planets[index_buscado+1:])"
   ]
  }
 ],
 "metadata": {
  "interpreter": {
   "hash": "04f024edacb86e904d0713ce411d5e94e68c3a134650f76885a9cdb3538d2df6"
  },
  "kernelspec": {
   "display_name": "Python 3.9.10 64-bit (windows store)",
   "language": "python",
   "name": "python3"
  },
  "language_info": {
   "codemirror_mode": {
    "name": "ipython",
    "version": 3
   },
   "file_extension": ".py",
   "mimetype": "text/x-python",
   "name": "python",
   "nbconvert_exporter": "python",
   "pygments_lexer": "ipython3",
   "version": "3.9.10"
  },
  "orig_nbformat": 4
 },
 "nbformat": 4,
 "nbformat_minor": 2
}
