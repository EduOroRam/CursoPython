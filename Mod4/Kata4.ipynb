{
 "cells": [
  {
   "cell_type": "markdown",
   "metadata": {},
   "source": [
    "Ejercicio 1"
   ]
  },
  {
   "cell_type": "code",
   "execution_count": 28,
   "metadata": {},
   "outputs": [
    {
     "name": "stdout",
     "output_type": "stream",
     "text": [
      " \n",
      "On average, the Moon moves 4cm away from the Earth every year\n",
      " The highest daylight temperature of the Moon is 127 C\n",
      " The highest daylight temperature of the Moon is 127 Celsius\n"
     ]
    }
   ],
   "source": [
    "text = \"\"\"Interesting facts about the Moon. The Moon is Earth's only satellite. There are several interesting facts about the Moon and how it affects life here on Earth. \n",
    "On average, the Moon moves 4cm away from the Earth every year. This yearly drift is not significant enough to cause immediate effects on Earth. The highest daylight temperature of the Moon is 127 C.\"\"\"\n",
    "\n",
    "text_oracion = text.split('.')\n",
    "\n",
    "palabras_clave = ['average', 'temperature', 'distance']\n",
    "\n",
    "for oracion in text_oracion:\n",
    "    for palabra in palabras_clave:\n",
    "        if oracion.lower().find(palabra) != -1 : \n",
    "            print(oracion)\n",
    "            if oracion.find('C') != -1 : print(oracion.replace(' C', ' Celsius'))"
   ]
  },
  {
   "cell_type": "markdown",
   "metadata": {},
   "source": [
    "Ejercicio 2"
   ]
  },
  {
   "cell_type": "code",
   "execution_count": 47,
   "metadata": {},
   "outputs": [
    {
     "name": "stdout",
     "output_type": "stream",
     "text": [
      "On Earth'S Moon\n",
      "-----------------\n",
      "On the planet Earth, it's Moon has a gravity of 1.62 m/s^2\n",
      "\n",
      "En la luna Ganímedes de Marte\n",
      "-----------------\n",
      "En el planeta Marte, la luna Ganímedes tiene una gravedad de 1.43 m/s^2\n"
     ]
    }
   ],
   "source": [
    "# Datos con los que vas a trabajar\n",
    "name = \"Moon\"\n",
    "gravity = 0.00162 # in kms\n",
    "planet = \"Earth\"\n",
    "\n",
    "title = (f\"On {planet}'s {name}\")\n",
    "data = f\"On the planet {planet}, it's {name} has a gravity of {round(gravity * 1000,3)} m/s^2\"\n",
    "output_text = (f\"{title.title()}\\n-----------------\\n{data}\\n\")\n",
    "\n",
    "print(output_text)\n",
    "\n",
    "#Nuevos datos\n",
    "planeta = 'Marte'\n",
    "gravedad  = 0.00143\n",
    "nombre = 'Ganímedes'\n",
    "\n",
    "complete_template = \"\"\"En la luna {nom} de {plan}\n",
    "-----------------\n",
    "En el planeta {plan}, la luna {nom} tiene una gravedad de {grav} m/s^2\"\"\"\n",
    "\n",
    "print(complete_template.format(nom = nombre, plan = planeta, grav = round(gravedad * 1000,3)))"
   ]
  }
 ],
 "metadata": {
  "interpreter": {
   "hash": "04f024edacb86e904d0713ce411d5e94e68c3a134650f76885a9cdb3538d2df6"
  },
  "kernelspec": {
   "display_name": "Python 3.9.10 64-bit (windows store)",
   "language": "python",
   "name": "python3"
  },
  "language_info": {
   "codemirror_mode": {
    "name": "ipython",
    "version": 3
   },
   "file_extension": ".py",
   "mimetype": "text/x-python",
   "name": "python",
   "nbconvert_exporter": "python",
   "pygments_lexer": "ipython3",
   "version": "3.9.10"
  },
  "orig_nbformat": 4
 },
 "nbformat": 4,
 "nbformat_minor": 2
}
