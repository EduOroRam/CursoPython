{
 "cells": [
  {
   "cell_type": "markdown",
   "metadata": {},
   "source": [
    "Ejercicio 1"
   ]
  },
  {
   "cell_type": "code",
   "execution_count": 14,
   "metadata": {},
   "outputs": [
    {
     "name": "stdout",
     "output_type": "stream",
     "text": [
      "Mars\n",
      "2\n",
      "Marte Updated cuenta con 3 lunas\n",
      "Marte Updated, circunferencia polar de 6752 kms\n"
     ]
    }
   ],
   "source": [
    "planet = {\n",
    "    'name' : 'Mars',\n",
    "    'moons' : 2\n",
    "}\n",
    "print(planet.get('name'))\n",
    "print(planet['moons'])\n",
    "\n",
    "planet.update({'name' : 'Marte Updated'})\n",
    "planet['moons'] = 3\n",
    "print(f\"{planet['name']} cuenta con {planet['moons']} lunas\")\n",
    "\n",
    "planet.update({'circunferencia (km)' :{\n",
    "    'polar' : 6752,\n",
    "    'equatorial' : 6792\n",
    "}})\n",
    "#planet['circunferencia (km)'] = {\n",
    "#    'polar' : 6752,\n",
    "#    'equatorial' : 6792\n",
    "#}\n",
    "print(f\"{planet['name']}, circunferencia polar de {planet['circunferencia (km)']['polar']} kms\")"
   ]
  },
  {
   "cell_type": "markdown",
   "metadata": {},
   "source": [
    "Ejercicio 2"
   ]
  },
  {
   "cell_type": "code",
   "execution_count": 17,
   "metadata": {},
   "outputs": [
    {
     "name": "stdout",
     "output_type": "stream",
     "text": [
      "214\n",
      "Promedio de lunas por planeta: \n",
      "214 lunas / 12 planetas = 17.833 lunas por planeta\n"
     ]
    }
   ],
   "source": [
    "planet_moons = {\n",
    "    'mercury': 0,\n",
    "    'venus': 0,\n",
    "    'earth': 1,\n",
    "    'mars': 2,\n",
    "    'jupiter': 79,\n",
    "    'saturn': 82,\n",
    "    'uranus': 27,\n",
    "    'neptune': 14,\n",
    "    'pluto': 5,\n",
    "    'haumea': 2,\n",
    "    'makemake': 1,\n",
    "    'eris': 1\n",
    "}\n",
    "moons = planet_moons.values()\n",
    "planets = len(planet_moons.keys())\n",
    "\n",
    "total_moons = 0\n",
    "for m in moons :\n",
    "    total_moons += m\n",
    "print(f'Promedio de lunas por planeta: \\n{total_moons} lunas / {planets} planetas = {round(total_moons/planets, 3)} lunas por planeta')"
   ]
  }
 ],
 "metadata": {
  "interpreter": {
   "hash": "04f024edacb86e904d0713ce411d5e94e68c3a134650f76885a9cdb3538d2df6"
  },
  "kernelspec": {
   "display_name": "Python 3.9.10 64-bit (windows store)",
   "language": "python",
   "name": "python3"
  },
  "language_info": {
   "codemirror_mode": {
    "name": "ipython",
    "version": 3
   },
   "file_extension": ".py",
   "mimetype": "text/x-python",
   "name": "python",
   "nbconvert_exporter": "python",
   "pygments_lexer": "ipython3",
   "version": "3.9.10"
  },
  "orig_nbformat": 4
 },
 "nbformat": 4,
 "nbformat_minor": 2
}
