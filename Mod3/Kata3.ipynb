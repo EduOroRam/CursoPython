{
 "cells": [
  {
   "cell_type": "markdown",
   "metadata": {},
   "source": [
    "#If - elif - else"
   ]
  },
  {
   "cell_type": "markdown",
   "metadata": {},
   "source": [
    "Problema 1"
   ]
  },
  {
   "cell_type": "code",
   "execution_count": 6,
   "metadata": {},
   "outputs": [
    {
     "name": "stdout",
     "output_type": "stream",
     "text": [
      "¡Advertencia! Asteroide aproximándose\n"
     ]
    }
   ],
   "source": [
    "#Velocidades superiores a 25km/s merecen advertencia\n",
    "velocidad_asteroide = 49 #en km/s\n",
    "if velocidad_asteroide > 25:\n",
    "    print(\"¡Advertencia! Asteroide aproximándose\")\n",
    "else:\n",
    "    print(\"El asteroide no representa un riesgo\")\n"
   ]
  },
  {
   "cell_type": "markdown",
   "metadata": {},
   "source": [
    "Problema 2"
   ]
  },
  {
   "cell_type": "code",
   "execution_count": 35,
   "metadata": {},
   "outputs": [
    {
     "name": "stdout",
     "output_type": "stream",
     "text": [
      "El asteroide es muy lento\n"
     ]
    }
   ],
   "source": [
    "#Velocidades desde 20km/s pueden emitir un rayo de luz\n",
    "import random\n",
    "velocidad_asteroide = 19 #en km/s\n",
    "\n",
    "if velocidad_asteroide < 20 :\n",
    "    visibilidad_asteroide = False #Cuando son lentos, nunca son visibles\n",
    "else :\n",
    "    visibilidad_asteroide = random.choice([False, True]) #A veces son visibles, a veces no\n",
    "\n",
    "if velocidad_asteroide < 20: \n",
    "    print(\"El asteroide es muy lento\")\n",
    "elif visibilidad_asteroide:\n",
    "    print (\"El asteroide es visible, sal a buscarlo\")\n",
    "else :\n",
    "    print (\"El asteroide no es visible, pero ahí está\")"
   ]
  },
  {
   "cell_type": "markdown",
   "metadata": {},
   "source": [
    "Problema 3"
   ]
  },
  {
   "cell_type": "code",
   "execution_count": 67,
   "metadata": {},
   "outputs": [
    {
     "name": "stdout",
     "output_type": "stream",
     "text": [
      "¡Advertencia! Gran asteroide aproximándose\n"
     ]
    }
   ],
   "source": [
    "#Velocidades desde 20km/s pueden emitir un rayo de luz, velocidades superiores a 25km/s requieren adevertencia y más pequeños a 25m se queman antes de impactar\n",
    "import random\n",
    "velocidad_asteroide = 30 #en km/s\n",
    "tamanio_asteroide = 30 #en m\n",
    "\n",
    "if velocidad_asteroide < 20 :\n",
    "    visibilidad_asteroide = False #Cuando son lentos, nunca son visibles\n",
    "else :\n",
    "    visibilidad_asteroide = random.choice([False, True]) #A veces son visibles, a veces no\n",
    "\n",
    "if velocidad_asteroide > 25 and tamanio_asteroide >= 25:\n",
    "    print(\"¡Advertencia! Gran asteroide aproximándose\")\n",
    "elif velocidad_asteroide >= 20 and visibilidad_asteroide:\n",
    "    print(\"El asteroide es visible, sal a buscarlo\")\n",
    "elif velocidad_asteroide >= 20 and not visibilidad_asteroide:\n",
    "    print(\"El asteroide no es visible, pero ahí está\")\n",
    "else : #cuando tamanio_asteroide < 25 or velocidad_asteroide < 20\n",
    "    print(\"El asteroide es muy pequeño o muy lento\")"
   ]
  }
 ],
 "metadata": {
  "interpreter": {
   "hash": "04f024edacb86e904d0713ce411d5e94e68c3a134650f76885a9cdb3538d2df6"
  },
  "kernelspec": {
   "display_name": "Python 3.9.10 64-bit (windows store)",
   "language": "python",
   "name": "python3"
  },
  "language_info": {
   "codemirror_mode": {
    "name": "ipython",
    "version": 3
   },
   "file_extension": ".py",
   "mimetype": "text/x-python",
   "name": "python",
   "nbconvert_exporter": "python",
   "pygments_lexer": "ipython3",
   "version": "3.9.10"
  },
  "orig_nbformat": 4
 },
 "nbformat": 4,
 "nbformat_minor": 2
}
